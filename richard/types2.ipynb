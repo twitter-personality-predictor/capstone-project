{
 "cells": [
  {
   "cell_type": "code",
   "execution_count": 18,
   "metadata": {},
   "outputs": [],
   "source": [
    "\n",
    "\n",
    "\n",
    "types=['esfj',\n",
    " 'esfp',\n",
    " 'estj',\n",
    " 'estp']\n",
    "\n",
    "\n",
    "\n",
    "#imports\n",
    "\n",
    "from random import random\n",
    "from time import sleep\n",
    "\n",
    "\n",
    "\n",
    "\n",
    "import random\n",
    "# import multiprocessing\n",
    "# from multiprocessing import Pool\n",
    "from datetime import date\n",
    "import snscrape.modules.twitter as sntwitter\n",
    "import pandas as pd\n",
    "import numpy as np\n",
    "from wordcloud import WordCloud\n",
    "import re\n",
    "import matplotlib.pyplot as plt\n",
    "import seaborn as sns\n",
    "# plt.style.use('fivethirtyeight')\n",
    "import nltk\n",
    "from nltk.stem.snowball import SnowballStemmer\n",
    "from nltk.corpus import stopwords\n",
    "import concurrent.futures\n",
    "\n",
    "from copy import deepcopy\n",
    "from pprint import pprint\n",
    "\n",
    "\n",
    "\n",
    "import os\n",
    "\n",
    "# import spacy\n",
    "# nlp = spacy.load(\"en_core_web_sm\")\n",
    "\n",
    " \n",
    "\n",
    "\n",
    "\n",
    "\n",
    "\n",
    "tweet_count =1000 #this number is the last n tweets\n",
    "dflist=[]\n",
    "dfdict={}\n",
    "\n",
    "\n",
    "\n",
    "\n",
    "dictcount=0\n",
    "errornames=[]\n",
    "\n",
    "\n",
    "\n",
    "\n",
    "tweets_df1=pd.DataFrame()\n",
    "for type in types:\n",
    "    type=type.upper()  \n",
    "    \n",
    "    \n",
    "\n",
    "    text_query = type\n",
    "    since_date = \"2022-01-01\"\n",
    "    until_date = \"2022-10-20\"\n",
    "    try:\n",
    "        # Using OS library to call CLI commands in Python\n",
    "         os.system('snscrape --jsonl --max-results {} --since {} twitter-search \"{} until:{}\"> text-query-tweets2.json'.format(tweet_count, since_date, text_query, until_date))\n",
    "         tweets_df2 = pd.read_json('text-query-tweets2.json', lines=True)\n",
    "         tweets_df2['type']=[type for i in range(0,len(tweets_df2))]      \n",
    "       \n",
    "     \n",
    "   \n",
    "                  \n",
    "         tweets_df1 = pd.concat([tweets_df1,tweets_df2 ],ignore_index=True)\n",
    "         \n",
    "    except:\n",
    "    \n",
    "        pass"
   ]
  },
  {
   "cell_type": "code",
   "execution_count": 17,
   "metadata": {},
   "outputs": [
    {
     "data": {
      "text/html": [
       "<div>\n",
       "<style scoped>\n",
       "    .dataframe tbody tr th:only-of-type {\n",
       "        vertical-align: middle;\n",
       "    }\n",
       "\n",
       "    .dataframe tbody tr th {\n",
       "        vertical-align: top;\n",
       "    }\n",
       "\n",
       "    .dataframe thead th {\n",
       "        text-align: right;\n",
       "    }\n",
       "</style>\n",
       "<table border=\"1\" class=\"dataframe\">\n",
       "  <thead>\n",
       "    <tr style=\"text-align: right;\">\n",
       "      <th></th>\n",
       "    </tr>\n",
       "  </thead>\n",
       "  <tbody>\n",
       "  </tbody>\n",
       "</table>\n",
       "</div>"
      ],
      "text/plain": [
       "Empty DataFrame\n",
       "Columns: []\n",
       "Index: []"
      ]
     },
     "execution_count": 17,
     "metadata": {},
     "output_type": "execute_result"
    }
   ],
   "source": [
    "tweets_df1"
   ]
  }
 ],
 "metadata": {
  "kernelspec": {
   "display_name": "Python 3.9.10 ('base')",
   "language": "python",
   "name": "python3"
  },
  "language_info": {
   "codemirror_mode": {
    "name": "ipython",
    "version": 3
   },
   "file_extension": ".py",
   "mimetype": "text/x-python",
   "name": "python",
   "nbconvert_exporter": "python",
   "pygments_lexer": "ipython3",
   "version": "3.9.10"
  },
  "orig_nbformat": 4,
  "vscode": {
   "interpreter": {
    "hash": "38cca0c38332a56087b24af0bc80247f4fced29cb4f7f437d91dc159adec9c4e"
   }
  }
 },
 "nbformat": 4,
 "nbformat_minor": 2
}
