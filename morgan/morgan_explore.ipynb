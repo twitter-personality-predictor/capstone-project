{
 "cells": [
  {
   "cell_type": "code",
   "execution_count": 1,
   "id": "e6ef6241-e82c-4f0e-8c82-56ba9117b28d",
   "metadata": {},
   "outputs": [],
   "source": [
    "import pandas as pd\n",
    "import numpy as np\n",
    "import matplotlib.pyplot as plt\n",
    "import seaborn as sns\n",
    "from sklearn.model_selection import train_test_split"
   ]
  },
  {
   "cell_type": "code",
   "execution_count": 2,
   "id": "425a19fa-8114-4482-aaf7-876f220fc92f",
   "metadata": {},
   "outputs": [
    {
     "ename": "FileNotFoundError",
     "evalue": "[Errno 2] No such file or directory: 'maindalemma_wo_langs.pkl'",
     "output_type": "error",
     "traceback": [
      "\u001b[0;31m---------------------------------------------------------------------------\u001b[0m",
      "\u001b[0;31mFileNotFoundError\u001b[0m                         Traceback (most recent call last)",
      "Input \u001b[0;32mIn [2]\u001b[0m, in \u001b[0;36m<cell line: 1>\u001b[0;34m()\u001b[0m\n\u001b[0;32m----> 1\u001b[0m df \u001b[38;5;241m=\u001b[39m \u001b[43mpd\u001b[49m\u001b[38;5;241;43m.\u001b[39;49m\u001b[43mread_pickle\u001b[49m\u001b[43m(\u001b[49m\u001b[38;5;124;43m'\u001b[39;49m\u001b[38;5;124;43mmaindalemma_wo_langs.pkl\u001b[39;49m\u001b[38;5;124;43m'\u001b[39;49m\u001b[43m)\u001b[49m\n",
      "File \u001b[0;32m/opt/homebrew/anaconda3/lib/python3.9/site-packages/pandas/io/pickle.py:187\u001b[0m, in \u001b[0;36mread_pickle\u001b[0;34m(filepath_or_buffer, compression, storage_options)\u001b[0m\n\u001b[1;32m    124\u001b[0m \u001b[38;5;124;03m\"\"\"\u001b[39;00m\n\u001b[1;32m    125\u001b[0m \u001b[38;5;124;03mLoad pickled pandas object (or any object) from file.\u001b[39;00m\n\u001b[1;32m    126\u001b[0m \n\u001b[0;32m   (...)\u001b[0m\n\u001b[1;32m    184\u001b[0m \u001b[38;5;124;03m4    4    9\u001b[39;00m\n\u001b[1;32m    185\u001b[0m \u001b[38;5;124;03m\"\"\"\u001b[39;00m  \u001b[38;5;66;03m# noqa: E501\u001b[39;00m\n\u001b[1;32m    186\u001b[0m excs_to_catch \u001b[38;5;241m=\u001b[39m (\u001b[38;5;167;01mAttributeError\u001b[39;00m, \u001b[38;5;167;01mImportError\u001b[39;00m, \u001b[38;5;167;01mModuleNotFoundError\u001b[39;00m, \u001b[38;5;167;01mTypeError\u001b[39;00m)\n\u001b[0;32m--> 187\u001b[0m \u001b[38;5;28;01mwith\u001b[39;00m \u001b[43mget_handle\u001b[49m\u001b[43m(\u001b[49m\n\u001b[1;32m    188\u001b[0m \u001b[43m    \u001b[49m\u001b[43mfilepath_or_buffer\u001b[49m\u001b[43m,\u001b[49m\n\u001b[1;32m    189\u001b[0m \u001b[43m    \u001b[49m\u001b[38;5;124;43m\"\u001b[39;49m\u001b[38;5;124;43mrb\u001b[39;49m\u001b[38;5;124;43m\"\u001b[39;49m\u001b[43m,\u001b[49m\n\u001b[1;32m    190\u001b[0m \u001b[43m    \u001b[49m\u001b[43mcompression\u001b[49m\u001b[38;5;241;43m=\u001b[39;49m\u001b[43mcompression\u001b[49m\u001b[43m,\u001b[49m\n\u001b[1;32m    191\u001b[0m \u001b[43m    \u001b[49m\u001b[43mis_text\u001b[49m\u001b[38;5;241;43m=\u001b[39;49m\u001b[38;5;28;43;01mFalse\u001b[39;49;00m\u001b[43m,\u001b[49m\n\u001b[1;32m    192\u001b[0m \u001b[43m    \u001b[49m\u001b[43mstorage_options\u001b[49m\u001b[38;5;241;43m=\u001b[39;49m\u001b[43mstorage_options\u001b[49m\u001b[43m,\u001b[49m\n\u001b[1;32m    193\u001b[0m \u001b[43m\u001b[49m\u001b[43m)\u001b[49m \u001b[38;5;28;01mas\u001b[39;00m handles:\n\u001b[1;32m    194\u001b[0m \n\u001b[1;32m    195\u001b[0m     \u001b[38;5;66;03m# 1) try standard library Pickle\u001b[39;00m\n\u001b[1;32m    196\u001b[0m     \u001b[38;5;66;03m# 2) try pickle_compat (older pandas version) to handle subclass changes\u001b[39;00m\n\u001b[1;32m    197\u001b[0m     \u001b[38;5;66;03m# 3) try pickle_compat with latin-1 encoding upon a UnicodeDecodeError\u001b[39;00m\n\u001b[1;32m    199\u001b[0m     \u001b[38;5;28;01mtry\u001b[39;00m:\n\u001b[1;32m    200\u001b[0m         \u001b[38;5;66;03m# TypeError for Cython complaints about object.__new__ vs Tick.__new__\u001b[39;00m\n\u001b[1;32m    201\u001b[0m         \u001b[38;5;28;01mtry\u001b[39;00m:\n",
      "File \u001b[0;32m/opt/homebrew/anaconda3/lib/python3.9/site-packages/pandas/io/common.py:798\u001b[0m, in \u001b[0;36mget_handle\u001b[0;34m(path_or_buf, mode, encoding, compression, memory_map, is_text, errors, storage_options)\u001b[0m\n\u001b[1;32m    789\u001b[0m         handle \u001b[38;5;241m=\u001b[39m \u001b[38;5;28mopen\u001b[39m(\n\u001b[1;32m    790\u001b[0m             handle,\n\u001b[1;32m    791\u001b[0m             ioargs\u001b[38;5;241m.\u001b[39mmode,\n\u001b[0;32m   (...)\u001b[0m\n\u001b[1;32m    794\u001b[0m             newline\u001b[38;5;241m=\u001b[39m\u001b[38;5;124m\"\u001b[39m\u001b[38;5;124m\"\u001b[39m,\n\u001b[1;32m    795\u001b[0m         )\n\u001b[1;32m    796\u001b[0m     \u001b[38;5;28;01melse\u001b[39;00m:\n\u001b[1;32m    797\u001b[0m         \u001b[38;5;66;03m# Binary mode\u001b[39;00m\n\u001b[0;32m--> 798\u001b[0m         handle \u001b[38;5;241m=\u001b[39m \u001b[38;5;28;43mopen\u001b[39;49m\u001b[43m(\u001b[49m\u001b[43mhandle\u001b[49m\u001b[43m,\u001b[49m\u001b[43m \u001b[49m\u001b[43mioargs\u001b[49m\u001b[38;5;241;43m.\u001b[39;49m\u001b[43mmode\u001b[49m\u001b[43m)\u001b[49m\n\u001b[1;32m    799\u001b[0m     handles\u001b[38;5;241m.\u001b[39mappend(handle)\n\u001b[1;32m    801\u001b[0m \u001b[38;5;66;03m# Convert BytesIO or file objects passed with an encoding\u001b[39;00m\n",
      "\u001b[0;31mFileNotFoundError\u001b[0m: [Errno 2] No such file or directory: 'maindalemma_wo_langs.pkl'"
     ]
    }
   ],
   "source": [
    "df = pd.read_pickle('maindalemma_wo_langs.pkl')"
   ]
  },
  {
   "cell_type": "code",
   "execution_count": null,
   "id": "29295633-d66f-4ffb-bdfe-7fae7a6d417f",
   "metadata": {},
   "outputs": [],
   "source": [
    "df.head()"
   ]
  },
  {
   "cell_type": "code",
   "execution_count": 47,
   "id": "e7f5e31d-eca1-4289-a200-df59710b7080",
   "metadata": {},
   "outputs": [],
   "source": [
    "# create train and test (80/20 split) from the orginal dataframe\n",
    "train, test = train_test_split(df, test_size=0.2, random_state=123)\n",
    "# create train and validate (75/25 split) from the train dataframe\n",
    "train, val = train_test_split(train, test_size=.25, random_state=123)"
   ]
  },
  {
   "cell_type": "code",
   "execution_count": 48,
   "id": "ac327a40-c580-4a97-9547-65729736bf70",
   "metadata": {},
   "outputs": [
    {
     "data": {
      "text/plain": [
       "((359, 4), (120, 4), (120, 4))"
      ]
     },
     "execution_count": 48,
     "metadata": {},
     "output_type": "execute_result"
    }
   ],
   "source": [
    "train.shape, val.shape, test.shape"
   ]
  },
  {
   "cell_type": "code",
   "execution_count": 49,
   "id": "e13ca4f2-cacd-41b8-bd5c-b365b3f5fb28",
   "metadata": {},
   "outputs": [
    {
     "data": {
      "image/png": "[encoded data removed]",
      "text/plain": [
       "<Figure size 864x576 with 1 Axes>"
      ]
     },
     "metadata": {
      "needs_background": "light"
     },
     "output_type": "display_data"
    }
   ],
   "source": [
    "plt.figure(figsize=(12,8))\n",
    "sns.histplot(train, x='type')\n",
    "plt.show()"
   ]
  },
  {
   "cell_type": "code",
   "execution_count": 50,
   "id": "a0700ef4-a034-44ca-97bc-65517870eae4",
   "metadata": {},
   "outputs": [],
   "source": [
    "new_list = []\n",
    "for spot in train['type']:\n",
    "        if (spot == 'INTJ') | (spot == 'ENTJ') | (spot == 'INTP') | (spot == 'ENTP'):\n",
    "            new_list.append('analyst')\n",
    "        if (spot == 'INFJ') | (spot == 'ENFJ') | (spot == 'INFP') | (spot == 'ENFP'):\n",
    "            new_list.append('diplomat')\n",
    "        if (spot == 'ISTJ') | (spot == 'ESTJ') | (spot == 'ISFJ') | (spot == 'ESFJ'):\n",
    "            new_list.append('sentinel')\n",
    "        if (spot == 'ISTP') | (spot == 'ESTP') | (spot == 'ISFP') | (spot == 'ESFP'):\n",
    "            new_list.append('explorer')\n",
    "train['domain'] = new_list"
   ]
  },
  {
   "cell_type": "code",
   "execution_count": 51,
   "id": "a5aef570-e5a8-4903-83cd-1534d4be210b",
   "metadata": {},
   "outputs": [],
   "source": [
    "train['i_e'] = np.where(train['type'].str[0] == 'I', 0, 1)\n",
    "train['s_n'] = np.where(train['type'].str[1] == 'S', 0, 1)\n",
    "train['f_t'] = np.where(train['type'].str[2] == 'F', 0, 1)\n",
    "train['p_j'] = np.where(train['type'].str[3] == 'P', 0, 1)"
   ]
  },
  {
   "cell_type": "code",
   "execution_count": 52,
   "id": "1828e217-8e9a-424c-8c44-157920682e97",
   "metadata": {},
   "outputs": [
    {
     "data": {
      "text/html": [
       "<div>\n",
       "<style scoped>\n",
       "    .dataframe tbody tr th:only-of-type {\n",
       "        vertical-align: middle;\n",
       "    }\n",
       "\n",
       "    .dataframe tbody tr th {\n",
       "        vertical-align: top;\n",
       "    }\n",
       "\n",
       "    .dataframe thead th {\n",
       "        text-align: right;\n",
       "    }\n",
       "</style>\n",
       "<table border=\"1\" class=\"dataframe\">\n",
       "  <thead>\n",
       "    <tr style=\"text-align: right;\">\n",
       "      <th></th>\n",
       "      <th>type</th>\n",
       "      <th>name</th>\n",
       "      <th>stoped_lemma</th>\n",
       "      <th>freq</th>\n",
       "      <th>domain</th>\n",
       "      <th>i_e</th>\n",
       "      <th>s_n</th>\n",
       "      <th>f_t</th>\n",
       "      <th>p_j</th>\n",
       "    </tr>\n",
       "  </thead>\n",
       "  <tbody>\n",
       "    <tr>\n",
       "      <th>548</th>\n",
       "      <td>ESFJ</td>\n",
       "      <td>lucy hale</td>\n",
       "      <td>cute day delicate amp strong hating game dude ...</td>\n",
       "      <td>{'amp': 18, 'thank': 10, 'nyre': 8, 'year': 8,...</td>\n",
       "      <td>sentinel</td>\n",
       "      <td>1</td>\n",
       "      <td>0</td>\n",
       "      <td>0</td>\n",
       "      <td>1</td>\n",
       "    </tr>\n",
       "    <tr>\n",
       "      <th>115</th>\n",
       "      <td>ESTJ</td>\n",
       "      <td>luna maya</td>\n",
       "      <td>day japan tokyo japan posted photo jakarta sak...</td>\n",
       "      <td>{'jakarta': 12, 'photo': 10, 'seoul': 10, 'kor...</td>\n",
       "      <td>sentinel</td>\n",
       "      <td>1</td>\n",
       "      <td>0</td>\n",
       "      <td>1</td>\n",
       "      <td>1</td>\n",
       "    </tr>\n",
       "    <tr>\n",
       "      <th>212</th>\n",
       "      <td>ESFP</td>\n",
       "      <td>paulo coelho</td>\n",
       "      <td>dois grande humano disso trata filme postei na...</td>\n",
       "      <td>{'obrigado': 6, 'nao': 6, 'pai': 4, 'deaalves'...</td>\n",
       "      <td>explorer</td>\n",
       "      <td>1</td>\n",
       "      <td>0</td>\n",
       "      <td>0</td>\n",
       "      <td>0</td>\n",
       "    </tr>\n",
       "    <tr>\n",
       "      <th>420</th>\n",
       "      <td>ISFP</td>\n",
       "      <td>pharrell williams</td>\n",
       "      <td>atlanta feat trvisxx pre save lesson blessing ...</td>\n",
       "      <td>{'cash': 16, 'sitw': 13, 'trvisxx': 6, 'sitwfe...</td>\n",
       "      <td>explorer</td>\n",
       "      <td>0</td>\n",
       "      <td>0</td>\n",
       "      <td>0</td>\n",
       "      <td>0</td>\n",
       "    </tr>\n",
       "    <tr>\n",
       "      <th>90</th>\n",
       "      <td>ESTP</td>\n",
       "      <td>james maslow</td>\n",
       "      <td>miri rusher still road trippin skelton onesie ...</td>\n",
       "      <td>{'thanks': 8, 'tour': 6, 'israel': 6, 'going':...</td>\n",
       "      <td>explorer</td>\n",
       "      <td>1</td>\n",
       "      <td>0</td>\n",
       "      <td>1</td>\n",
       "      <td>0</td>\n",
       "    </tr>\n",
       "  </tbody>\n",
       "</table>\n",
       "</div>"
      ],
      "text/plain": [
       "     type               name  \\\n",
       "548  ESFJ          lucy hale   \n",
       "115  ESTJ          luna maya   \n",
       "212  ESFP       paulo coelho   \n",
       "420  ISFP  pharrell williams   \n",
       "90   ESTP       james maslow   \n",
       "\n",
       "                                          stoped_lemma  \\\n",
       "548  cute day delicate amp strong hating game dude ...   \n",
       "115  day japan tokyo japan posted photo jakarta sak...   \n",
       "212  dois grande humano disso trata filme postei na...   \n",
       "420  atlanta feat trvisxx pre save lesson blessing ...   \n",
       "90   miri rusher still road trippin skelton onesie ...   \n",
       "\n",
       "                                                  freq    domain  i_e  s_n  \\\n",
       "548  {'amp': 18, 'thank': 10, 'nyre': 8, 'year': 8,...  sentinel    1    0   \n",
       "115  {'jakarta': 12, 'photo': 10, 'seoul': 10, 'kor...  sentinel    1    0   \n",
       "212  {'obrigado': 6, 'nao': 6, 'pai': 4, 'deaalves'...  explorer    1    0   \n",
       "420  {'cash': 16, 'sitw': 13, 'trvisxx': 6, 'sitwfe...  explorer    0    0   \n",
       "90   {'thanks': 8, 'tour': 6, 'israel': 6, 'going':...  explorer    1    0   \n",
       "\n",
       "     f_t  p_j  \n",
       "548    0    1  \n",
       "115    1    1  \n",
       "212    0    0  \n",
       "420    0    0  \n",
       "90     1    0  "
      ]
     },
     "execution_count": 52,
     "metadata": {},
     "output_type": "execute_result"
    }
   ],
   "source": [
    "train.head()"
   ]
  },
  {
   "cell_type": "code",
   "execution_count": 53,
   "id": "ef5c0e1c-4abd-4a99-819c-991452817cc8",
   "metadata": {},
   "outputs": [
    {
     "data": {
      "text/plain": [
       "(1    245\n",
       " 0    114\n",
       " Name: i_e, dtype: int64,\n",
       " 0    213\n",
       " 1    146\n",
       " Name: s_n, dtype: int64,\n",
       " 0    234\n",
       " 1    125\n",
       " Name: f_t, dtype: int64,\n",
       " 0    219\n",
       " 1    140\n",
       " Name: p_j, dtype: int64)"
      ]
     },
     "execution_count": 53,
     "metadata": {},
     "output_type": "execute_result"
    }
   ],
   "source": [
    "train.i_e.value_counts(), train.s_n.value_counts(), train.f_t.value_counts(), train.p_j.value_counts()"
   ]
  },
  {
   "cell_type": "code",
   "execution_count": 54,
   "id": "7a06b97e-125f-428f-8224-61069b4e7cbf",
   "metadata": {},
   "outputs": [
    {
     "data": {
      "text/plain": [
       "<AxesSubplot:xlabel='domain', ylabel='Count'>"
      ]
     },
     "execution_count": 54,
     "metadata": {},
     "output_type": "execute_result"
    },
    {
     "data": {
      "image/png": "[encoded data removed]",
      "text/plain": [
       "<Figure size 432x288 with 1 Axes>"
      ]
     },
     "metadata": {
      "needs_background": "light"
     },
     "output_type": "display_data"
    }
   ],
   "source": [
    "sns.histplot(train, x='domain')"
   ]
  },
  {
   "cell_type": "code",
   "execution_count": 55,
   "id": "ef1948e2-4ded-4631-ac28-4d182d429552",
   "metadata": {},
   "outputs": [
    {
     "data": {
      "text/html": [
       "<div>\n",
       "<style scoped>\n",
       "    .dataframe tbody tr th:only-of-type {\n",
       "        vertical-align: middle;\n",
       "    }\n",
       "\n",
       "    .dataframe tbody tr th {\n",
       "        vertical-align: top;\n",
       "    }\n",
       "\n",
       "    .dataframe thead th {\n",
       "        text-align: right;\n",
       "    }\n",
       "</style>\n",
       "<table border=\"1\" class=\"dataframe\">\n",
       "  <thead>\n",
       "    <tr style=\"text-align: right;\">\n",
       "      <th>domain</th>\n",
       "      <th>analyst</th>\n",
       "      <th>diplomat</th>\n",
       "      <th>explorer</th>\n",
       "      <th>sentinel</th>\n",
       "    </tr>\n",
       "    <tr>\n",
       "      <th>i_e</th>\n",
       "      <th></th>\n",
       "      <th></th>\n",
       "      <th></th>\n",
       "      <th></th>\n",
       "    </tr>\n",
       "  </thead>\n",
       "  <tbody>\n",
       "    <tr>\n",
       "      <th>0</th>\n",
       "      <td>12</td>\n",
       "      <td>27</td>\n",
       "      <td>50</td>\n",
       "      <td>25</td>\n",
       "    </tr>\n",
       "    <tr>\n",
       "      <th>1</th>\n",
       "      <td>45</td>\n",
       "      <td>62</td>\n",
       "      <td>84</td>\n",
       "      <td>54</td>\n",
       "    </tr>\n",
       "  </tbody>\n",
       "</table>\n",
       "</div>"
      ],
      "text/plain": [
       "domain  analyst  diplomat  explorer  sentinel\n",
       "i_e                                          \n",
       "0            12        27        50        25\n",
       "1            45        62        84        54"
      ]
     },
     "execution_count": 55,
     "metadata": {},
     "output_type": "execute_result"
    }
   ],
   "source": [
    "pd.crosstab(train['i_e'], train['domain'])"
   ]
  },
  {
   "cell_type": "code",
   "execution_count": 56,
   "id": "67debec2-ba0c-4446-9ca4-6ba5dbf657e3",
   "metadata": {},
   "outputs": [],
   "source": [
    "import nltk.sentiment"
   ]
  },
  {
   "cell_type": "code",
   "execution_count": 57,
   "id": "eb06d452-953a-43be-a062-701a89def022",
   "metadata": {},
   "outputs": [],
   "source": [
    "s = nltk.sentiment.SentimentIntensityAnalyzer()"
   ]
  },
  {
   "cell_type": "code",
   "execution_count": 58,
   "id": "d631bedb-1a1e-4ece-a231-a683512ce460",
   "metadata": {},
   "outputs": [],
   "source": [
    "train['sentiment'] = train.stoped_lemma.apply(lambda doc: s.polarity_scores(doc)['compound'])"
   ]
  },
  {
   "cell_type": "code",
   "execution_count": 59,
   "id": "31d34378-16a3-4b96-8b02-d4226ba3acf4",
   "metadata": {},
   "outputs": [
    {
     "data": {
      "text/html": [
       "<div>\n",
       "<style scoped>\n",
       "    .dataframe tbody tr th:only-of-type {\n",
       "        vertical-align: middle;\n",
       "    }\n",
       "\n",
       "    .dataframe tbody tr th {\n",
       "        vertical-align: top;\n",
       "    }\n",
       "\n",
       "    .dataframe thead th {\n",
       "        text-align: right;\n",
       "    }\n",
       "</style>\n",
       "<table border=\"1\" class=\"dataframe\">\n",
       "  <thead>\n",
       "    <tr style=\"text-align: right;\">\n",
       "      <th></th>\n",
       "      <th>type</th>\n",
       "      <th>name</th>\n",
       "      <th>stoped_lemma</th>\n",
       "      <th>freq</th>\n",
       "      <th>domain</th>\n",
       "      <th>i_e</th>\n",
       "      <th>s_n</th>\n",
       "      <th>f_t</th>\n",
       "      <th>p_j</th>\n",
       "      <th>sentiment</th>\n",
       "    </tr>\n",
       "  </thead>\n",
       "  <tbody>\n",
       "    <tr>\n",
       "      <th>548</th>\n",
       "      <td>ESFJ</td>\n",
       "      <td>lucy hale</td>\n",
       "      <td>cute day delicate amp strong hating game dude ...</td>\n",
       "      <td>{'amp': 18, 'thank': 10, 'nyre': 8, 'year': 8,...</td>\n",
       "      <td>sentinel</td>\n",
       "      <td>1</td>\n",
       "      <td>0</td>\n",
       "      <td>0</td>\n",
       "      <td>1</td>\n",
       "      <td>0.9996</td>\n",
       "    </tr>\n",
       "    <tr>\n",
       "      <th>115</th>\n",
       "      <td>ESTJ</td>\n",
       "      <td>luna maya</td>\n",
       "      <td>day japan tokyo japan posted photo jakarta sak...</td>\n",
       "      <td>{'jakarta': 12, 'photo': 10, 'seoul': 10, 'kor...</td>\n",
       "      <td>sentinel</td>\n",
       "      <td>1</td>\n",
       "      <td>0</td>\n",
       "      <td>1</td>\n",
       "      <td>1</td>\n",
       "      <td>0.9932</td>\n",
       "    </tr>\n",
       "    <tr>\n",
       "      <th>212</th>\n",
       "      <td>ESFP</td>\n",
       "      <td>paulo coelho</td>\n",
       "      <td>dois grande humano disso trata filme postei na...</td>\n",
       "      <td>{'obrigado': 6, 'nao': 6, 'pai': 4, 'deaalves'...</td>\n",
       "      <td>explorer</td>\n",
       "      <td>1</td>\n",
       "      <td>0</td>\n",
       "      <td>0</td>\n",
       "      <td>0</td>\n",
       "      <td>0.9920</td>\n",
       "    </tr>\n",
       "    <tr>\n",
       "      <th>420</th>\n",
       "      <td>ISFP</td>\n",
       "      <td>pharrell williams</td>\n",
       "      <td>atlanta feat trvisxx pre save lesson blessing ...</td>\n",
       "      <td>{'cash': 16, 'sitw': 13, 'trvisxx': 6, 'sitwfe...</td>\n",
       "      <td>explorer</td>\n",
       "      <td>0</td>\n",
       "      <td>0</td>\n",
       "      <td>0</td>\n",
       "      <td>0</td>\n",
       "      <td>0.9942</td>\n",
       "    </tr>\n",
       "    <tr>\n",
       "      <th>90</th>\n",
       "      <td>ESTP</td>\n",
       "      <td>james maslow</td>\n",
       "      <td>miri rusher still road trippin skelton onesie ...</td>\n",
       "      <td>{'thanks': 8, 'tour': 6, 'israel': 6, 'going':...</td>\n",
       "      <td>explorer</td>\n",
       "      <td>1</td>\n",
       "      <td>0</td>\n",
       "      <td>1</td>\n",
       "      <td>0</td>\n",
       "      <td>0.9984</td>\n",
       "    </tr>\n",
       "    <tr>\n",
       "      <th>...</th>\n",
       "      <td>...</td>\n",
       "      <td>...</td>\n",
       "      <td>...</td>\n",
       "      <td>...</td>\n",
       "      <td>...</td>\n",
       "      <td>...</td>\n",
       "      <td>...</td>\n",
       "      <td>...</td>\n",
       "      <td>...</td>\n",
       "      <td>...</td>\n",
       "    </tr>\n",
       "    <tr>\n",
       "      <th>580</th>\n",
       "      <td>ESFJ</td>\n",
       "      <td>tom daley</td>\n",
       "      <td>heres ver nstitch stitch mission help everyone...</td>\n",
       "      <td>{'ad': 14, 'watch': 11, 'check': 10, 'amp': 10...</td>\n",
       "      <td>sentinel</td>\n",
       "      <td>1</td>\n",
       "      <td>0</td>\n",
       "      <td>0</td>\n",
       "      <td>1</td>\n",
       "      <td>0.9997</td>\n",
       "    </tr>\n",
       "    <tr>\n",
       "      <th>350</th>\n",
       "      <td>ENFP</td>\n",
       "      <td>ozzy osbourne</td>\n",
       "      <td>happy ing oct trick treat n bark moon hd youtu...</td>\n",
       "      <td>{'ozzy': 42, 'n': 37, 'august': 9, 'find': 8, ...</td>\n",
       "      <td>diplomat</td>\n",
       "      <td>1</td>\n",
       "      <td>1</td>\n",
       "      <td>0</td>\n",
       "      <td>0</td>\n",
       "      <td>0.9939</td>\n",
       "    </tr>\n",
       "    <tr>\n",
       "      <th>440</th>\n",
       "      <td>ISFP</td>\n",
       "      <td>shreya ghoshal</td>\n",
       "      <td>excited share new song amazing along nits firs...</td>\n",
       "      <td>{'thank': 19, 'song': 14, 'n': 12, 'us': 8, 'p...</td>\n",
       "      <td>explorer</td>\n",
       "      <td>0</td>\n",
       "      <td>0</td>\n",
       "      <td>0</td>\n",
       "      <td>0</td>\n",
       "      <td>0.9999</td>\n",
       "    </tr>\n",
       "    <tr>\n",
       "      <th>554</th>\n",
       "      <td>ESFJ</td>\n",
       "      <td>angelica huck</td>\n",
       "      <td>brasil venceu povo venceu nviva caminho longo ...</td>\n",
       "      <td>{'semana': 20, 'nao': 16, 'dia': 14, 'mina': 1...</td>\n",
       "      <td>sentinel</td>\n",
       "      <td>1</td>\n",
       "      <td>0</td>\n",
       "      <td>0</td>\n",
       "      <td>1</td>\n",
       "      <td>0.9698</td>\n",
       "    </tr>\n",
       "    <tr>\n",
       "      <th>321</th>\n",
       "      <td>INFJ</td>\n",
       "      <td>oscar d' leon</td>\n",
       "      <td>acaba publicar foto caracas renoce cancion ooo...</td>\n",
       "      <td>{'publicar': 39, 'acaba': 38, 'oooo': 32, 'sop...</td>\n",
       "      <td>diplomat</td>\n",
       "      <td>0</td>\n",
       "      <td>1</td>\n",
       "      <td>0</td>\n",
       "      <td>1</td>\n",
       "      <td>0.7430</td>\n",
       "    </tr>\n",
       "  </tbody>\n",
       "</table>\n",
       "<p>359 rows × 10 columns</p>\n",
       "</div>"
      ],
      "text/plain": [
       "     type               name  \\\n",
       "548  ESFJ          lucy hale   \n",
       "115  ESTJ          luna maya   \n",
       "212  ESFP       paulo coelho   \n",
       "420  ISFP  pharrell williams   \n",
       "90   ESTP       james maslow   \n",
       "..    ...                ...   \n",
       "580  ESFJ          tom daley   \n",
       "350  ENFP      ozzy osbourne   \n",
       "440  ISFP     shreya ghoshal   \n",
       "554  ESFJ      angelica huck   \n",
       "321  INFJ      oscar d' leon   \n",
       "\n",
       "                                          stoped_lemma  \\\n",
       "548  cute day delicate amp strong hating game dude ...   \n",
       "115  day japan tokyo japan posted photo jakarta sak...   \n",
       "212  dois grande humano disso trata filme postei na...   \n",
       "420  atlanta feat trvisxx pre save lesson blessing ...   \n",
       "90   miri rusher still road trippin skelton onesie ...   \n",
       "..                                                 ...   \n",
       "580  heres ver nstitch stitch mission help everyone...   \n",
       "350  happy ing oct trick treat n bark moon hd youtu...   \n",
       "440  excited share new song amazing along nits firs...   \n",
       "554  brasil venceu povo venceu nviva caminho longo ...   \n",
       "321  acaba publicar foto caracas renoce cancion ooo...   \n",
       "\n",
       "                                                  freq    domain  i_e  s_n  \\\n",
       "548  {'amp': 18, 'thank': 10, 'nyre': 8, 'year': 8,...  sentinel    1    0   \n",
       "115  {'jakarta': 12, 'photo': 10, 'seoul': 10, 'kor...  sentinel    1    0   \n",
       "212  {'obrigado': 6, 'nao': 6, 'pai': 4, 'deaalves'...  explorer    1    0   \n",
       "420  {'cash': 16, 'sitw': 13, 'trvisxx': 6, 'sitwfe...  explorer    0    0   \n",
       "90   {'thanks': 8, 'tour': 6, 'israel': 6, 'going':...  explorer    1    0   \n",
       "..                                                 ...       ...  ...  ...   \n",
       "580  {'ad': 14, 'watch': 11, 'check': 10, 'amp': 10...  sentinel    1    0   \n",
       "350  {'ozzy': 42, 'n': 37, 'august': 9, 'find': 8, ...  diplomat    1    1   \n",
       "440  {'thank': 19, 'song': 14, 'n': 12, 'us': 8, 'p...  explorer    0    0   \n",
       "554  {'semana': 20, 'nao': 16, 'dia': 14, 'mina': 1...  sentinel    1    0   \n",
       "321  {'publicar': 39, 'acaba': 38, 'oooo': 32, 'sop...  diplomat    0    1   \n",
       "\n",
       "     f_t  p_j  sentiment  \n",
       "548    0    1     0.9996  \n",
       "115    1    1     0.9932  \n",
       "212    0    0     0.9920  \n",
       "420    0    0     0.9942  \n",
       "90     1    0     0.9984  \n",
       "..   ...  ...        ...  \n",
       "580    0    1     0.9997  \n",
       "350    0    0     0.9939  \n",
       "440    0    0     0.9999  \n",
       "554    0    1     0.9698  \n",
       "321    0    1     0.7430  \n",
       "\n",
       "[359 rows x 10 columns]"
      ]
     },
     "execution_count": 59,
     "metadata": {},
     "output_type": "execute_result"
    }
   ],
   "source": [
    "train"
   ]
  },
  {
   "cell_type": "code",
   "execution_count": 60,
   "id": "ea373e6f-0d91-4570-ad8e-ed84ccea2766",
   "metadata": {},
   "outputs": [
    {
     "data": {
      "text/plain": [
       "(0.9100596491228067, 0.8629832653061216)"
      ]
     },
     "execution_count": 60,
     "metadata": {},
     "output_type": "execute_result"
    }
   ],
   "source": [
    "train[train.i_e == 0].sentiment.mean(), train[train.i_e == 1].sentiment.mean()"
   ]
  },
  {
   "cell_type": "code",
   "execution_count": 61,
   "id": "7746d893-f24a-43ae-8b45-ad56a05e66c3",
   "metadata": {},
   "outputs": [
    {
     "data": {
      "text/plain": [
       "(0.8815338028169004, 0.8726780821917802)"
      ]
     },
     "execution_count": 61,
     "metadata": {},
     "output_type": "execute_result"
    }
   ],
   "source": [
    "train[train.s_n == 0].sentiment.mean(), train[train.s_n == 1].sentiment.mean()"
   ]
  },
  {
   "cell_type": "code",
   "execution_count": 62,
   "id": "b6ce9d95-4b08-4167-8f79-904b3da1728b",
   "metadata": {},
   "outputs": [
    {
     "data": {
      "text/plain": [
       "(0.917649999999999, 0.8035807999999998)"
      ]
     },
     "execution_count": 62,
     "metadata": {},
     "output_type": "execute_result"
    }
   ],
   "source": [
    "train[train.f_t == 0].sentiment.mean(), train[train.f_t == 1].sentiment.mean()"
   ]
  },
  {
   "cell_type": "code",
   "execution_count": 63,
   "id": "16a9f142-7826-4def-89ac-9ca491c09b1a",
   "metadata": {},
   "outputs": [
    {
     "data": {
      "text/plain": [
       "(0.8762442922374423, 0.8805728571428563)"
      ]
     },
     "execution_count": 63,
     "metadata": {},
     "output_type": "execute_result"
    }
   ],
   "source": [
    "train[train.p_j == 0].sentiment.mean(), train[train.p_j == 1].sentiment.mean()"
   ]
  },
  {
   "cell_type": "code",
   "execution_count": 64,
   "id": "fd7b2ee4-4d3d-4402-850b-400b476bef58",
   "metadata": {},
   "outputs": [
    {
     "data": {
      "text/plain": [
       "(0.7863757575757577, 0.9632941176470589)"
      ]
     },
     "execution_count": 64,
     "metadata": {},
     "output_type": "execute_result"
    }
   ],
   "source": [
    "train[train.type == 'ENTP'].sentiment.mean(), train[train.type == 'ISFJ'].sentiment.mean()"
   ]
  },
  {
   "cell_type": "code",
   "execution_count": 65,
   "id": "0c98b10f-b57b-4f61-84f6-6d008d4a3e5b",
   "metadata": {},
   "outputs": [
    {
     "data": {
      "text/plain": [
       "{'diplomat': 0.9035303370786516,\n",
       " 'explorer': 0.8724873134328356,\n",
       " 'analyst': 0.8245052631578946,\n",
       " 'sentinel': 0.896878481012658}"
      ]
     },
     "execution_count": 65,
     "metadata": {},
     "output_type": "execute_result"
    }
   ],
   "source": [
    "{'diplomat':train[train.domain == 'diplomat'].sentiment.mean(), \n",
    " 'explorer':train[train.domain == 'explorer'].sentiment.mean(), \n",
    " 'analyst':train[train.domain == 'analyst'].sentiment.mean(),\n",
    " 'sentinel':train[train.domain == 'sentinel'].sentiment.mean()}"
   ]
  },
  {
   "cell_type": "code",
   "execution_count": 66,
   "id": "3a5d9690-ca71-456f-8ef0-3a00ce8826b1",
   "metadata": {},
   "outputs": [],
   "source": [
    "train['message_length'] = train['stoped_lemma'].str.len()"
   ]
  },
  {
   "cell_type": "code",
   "execution_count": 67,
   "id": "5dd47f52-445d-475d-8fbf-47d69f3d88aa",
   "metadata": {},
   "outputs": [],
   "source": [
    "train['word_count'] = train['stoped_lemma'].str.split(' ').apply(len)"
   ]
  },
  {
   "cell_type": "code",
   "execution_count": 68,
   "id": "ec0b9175-c90d-4c7a-8021-53f40077def7",
   "metadata": {},
   "outputs": [
    {
     "data": {
      "text/html": [
       "<div>\n",
       "<style scoped>\n",
       "    .dataframe tbody tr th:only-of-type {\n",
       "        vertical-align: middle;\n",
       "    }\n",
       "\n",
       "    .dataframe tbody tr th {\n",
       "        vertical-align: top;\n",
       "    }\n",
       "\n",
       "    .dataframe thead th {\n",
       "        text-align: right;\n",
       "    }\n",
       "</style>\n",
       "<table border=\"1\" class=\"dataframe\">\n",
       "  <thead>\n",
       "    <tr style=\"text-align: right;\">\n",
       "      <th></th>\n",
       "      <th>type</th>\n",
       "      <th>name</th>\n",
       "      <th>stoped_lemma</th>\n",
       "      <th>freq</th>\n",
       "      <th>domain</th>\n",
       "      <th>i_e</th>\n",
       "      <th>s_n</th>\n",
       "      <th>f_t</th>\n",
       "      <th>p_j</th>\n",
       "      <th>sentiment</th>\n",
       "      <th>message_length</th>\n",
       "      <th>word_count</th>\n",
       "    </tr>\n",
       "  </thead>\n",
       "  <tbody>\n",
       "    <tr>\n",
       "      <th>548</th>\n",
       "      <td>ESFJ</td>\n",
       "      <td>lucy hale</td>\n",
       "      <td>cute day delicate amp strong hating game dude ...</td>\n",
       "      <td>{'amp': 18, 'thank': 10, 'nyre': 8, 'year': 8,...</td>\n",
       "      <td>sentinel</td>\n",
       "      <td>1</td>\n",
       "      <td>0</td>\n",
       "      <td>0</td>\n",
       "      <td>1</td>\n",
       "      <td>0.9996</td>\n",
       "      <td>3769</td>\n",
       "      <td>610</td>\n",
       "    </tr>\n",
       "    <tr>\n",
       "      <th>115</th>\n",
       "      <td>ESTJ</td>\n",
       "      <td>luna maya</td>\n",
       "      <td>day japan tokyo japan posted photo jakarta sak...</td>\n",
       "      <td>{'jakarta': 12, 'photo': 10, 'seoul': 10, 'kor...</td>\n",
       "      <td>sentinel</td>\n",
       "      <td>1</td>\n",
       "      <td>0</td>\n",
       "      <td>1</td>\n",
       "      <td>1</td>\n",
       "      <td>0.9932</td>\n",
       "      <td>2652</td>\n",
       "      <td>438</td>\n",
       "    </tr>\n",
       "    <tr>\n",
       "      <th>212</th>\n",
       "      <td>ESFP</td>\n",
       "      <td>paulo coelho</td>\n",
       "      <td>dois grande humano disso trata filme postei na...</td>\n",
       "      <td>{'obrigado': 6, 'nao': 6, 'pai': 4, 'deaalves'...</td>\n",
       "      <td>explorer</td>\n",
       "      <td>1</td>\n",
       "      <td>0</td>\n",
       "      <td>0</td>\n",
       "      <td>0</td>\n",
       "      <td>0.9920</td>\n",
       "      <td>3571</td>\n",
       "      <td>567</td>\n",
       "    </tr>\n",
       "    <tr>\n",
       "      <th>420</th>\n",
       "      <td>ISFP</td>\n",
       "      <td>pharrell williams</td>\n",
       "      <td>atlanta feat trvisxx pre save lesson blessing ...</td>\n",
       "      <td>{'cash': 16, 'sitw': 13, 'trvisxx': 6, 'sitwfe...</td>\n",
       "      <td>explorer</td>\n",
       "      <td>0</td>\n",
       "      <td>0</td>\n",
       "      <td>0</td>\n",
       "      <td>0</td>\n",
       "      <td>0.9942</td>\n",
       "      <td>1741</td>\n",
       "      <td>276</td>\n",
       "    </tr>\n",
       "    <tr>\n",
       "      <th>90</th>\n",
       "      <td>ESTP</td>\n",
       "      <td>james maslow</td>\n",
       "      <td>miri rusher still road trippin skelton onesie ...</td>\n",
       "      <td>{'thanks': 8, 'tour': 6, 'israel': 6, 'going':...</td>\n",
       "      <td>explorer</td>\n",
       "      <td>1</td>\n",
       "      <td>0</td>\n",
       "      <td>1</td>\n",
       "      <td>0</td>\n",
       "      <td>0.9984</td>\n",
       "      <td>3197</td>\n",
       "      <td>524</td>\n",
       "    </tr>\n",
       "  </tbody>\n",
       "</table>\n",
       "</div>"
      ],
      "text/plain": [
       "     type               name  \\\n",
       "548  ESFJ          lucy hale   \n",
       "115  ESTJ          luna maya   \n",
       "212  ESFP       paulo coelho   \n",
       "420  ISFP  pharrell williams   \n",
       "90   ESTP       james maslow   \n",
       "\n",
       "                                          stoped_lemma  \\\n",
       "548  cute day delicate amp strong hating game dude ...   \n",
       "115  day japan tokyo japan posted photo jakarta sak...   \n",
       "212  dois grande humano disso trata filme postei na...   \n",
       "420  atlanta feat trvisxx pre save lesson blessing ...   \n",
       "90   miri rusher still road trippin skelton onesie ...   \n",
       "\n",
       "                                                  freq    domain  i_e  s_n  \\\n",
       "548  {'amp': 18, 'thank': 10, 'nyre': 8, 'year': 8,...  sentinel    1    0   \n",
       "115  {'jakarta': 12, 'photo': 10, 'seoul': 10, 'kor...  sentinel    1    0   \n",
       "212  {'obrigado': 6, 'nao': 6, 'pai': 4, 'deaalves'...  explorer    1    0   \n",
       "420  {'cash': 16, 'sitw': 13, 'trvisxx': 6, 'sitwfe...  explorer    0    0   \n",
       "90   {'thanks': 8, 'tour': 6, 'israel': 6, 'going':...  explorer    1    0   \n",
       "\n",
       "     f_t  p_j  sentiment  message_length  word_count  \n",
       "548    0    1     0.9996            3769         610  \n",
       "115    1    1     0.9932            2652         438  \n",
       "212    0    0     0.9920            3571         567  \n",
       "420    0    0     0.9942            1741         276  \n",
       "90     1    0     0.9984            3197         524  "
      ]
     },
     "execution_count": 68,
     "metadata": {},
     "output_type": "execute_result"
    }
   ],
   "source": [
    "train.head()"
   ]
  },
  {
   "cell_type": "code",
   "execution_count": 69,
   "id": "3121619a-4b34-47a1-bad3-472e9a2bb055",
   "metadata": {},
   "outputs": [
    {
     "name": "stderr",
     "output_type": "stream",
     "text": [
      "/opt/homebrew/anaconda3/lib/python3.9/site-packages/seaborn/_decorators.py:36: FutureWarning: Pass the following variable as a keyword arg: y. From version 0.12, the only valid positional argument will be `data`, and passing other arguments without an explicit keyword will result in an error or misinterpretation.\n",
      "  warnings.warn(\n"
     ]
    },
    {
     "data": {
      "text/plain": [
       "<AxesSubplot:xlabel='message_length', ylabel='sentiment'>"
      ]
     },
     "execution_count": 69,
     "metadata": {},
     "output_type": "execute_result"
    },
    {
     "data": {
      "image/png": "[encoded data removed]",
      "text/plain": [
       "<Figure size 432x288 with 1 Axes>"
      ]
     },
     "metadata": {
      "needs_background": "light"
     },
     "output_type": "display_data"
    }
   ],
   "source": [
    "sns.kdeplot(train[train.domain == 'diplomat'].message_length, train[train.domain == 'diplomat'].sentiment, levels=30, shade=True)"
   ]
  },
  {
   "cell_type": "code",
   "execution_count": 70,
   "id": "12e44cc9-1625-4458-a518-a8626bfdd08b",
   "metadata": {},
   "outputs": [
    {
     "name": "stderr",
     "output_type": "stream",
     "text": [
      "/opt/homebrew/anaconda3/lib/python3.9/site-packages/seaborn/_decorators.py:36: FutureWarning: Pass the following variable as a keyword arg: y. From version 0.12, the only valid positional argument will be `data`, and passing other arguments without an explicit keyword will result in an error or misinterpretation.\n",
      "  warnings.warn(\n"
     ]
    },
    {
     "data": {
      "text/plain": [
       "<AxesSubplot:xlabel='message_length', ylabel='sentiment'>"
      ]
     },
     "execution_count": 70,
     "metadata": {},
     "output_type": "execute_result"
    },
    {
     "data": {
      "image/png": "[encoded data removed]",
      "text/plain": [
       "<Figure size 432x288 with 1 Axes>"
      ]
     },
     "metadata": {
      "needs_background": "light"
     },
     "output_type": "display_data"
    }
   ],
   "source": [
    "sns.kdeplot(train[train.domain == 'sentinel'].message_length, train[train.domain == 'sentinel'].sentiment, levels=30, shade=True)"
   ]
  },
  {
   "cell_type": "code",
   "execution_count": 71,
   "id": "56ebc8b7-52a7-41f7-945a-3e1c107393ee",
   "metadata": {},
   "outputs": [
    {
     "name": "stderr",
     "output_type": "stream",
     "text": [
      "/opt/homebrew/anaconda3/lib/python3.9/site-packages/seaborn/_decorators.py:36: FutureWarning: Pass the following variable as a keyword arg: y. From version 0.12, the only valid positional argument will be `data`, and passing other arguments without an explicit keyword will result in an error or misinterpretation.\n",
      "  warnings.warn(\n"
     ]
    },
    {
     "data": {
      "text/plain": [
       "<AxesSubplot:xlabel='message_length', ylabel='sentiment'>"
      ]
     },
     "execution_count": 71,
     "metadata": {},
     "output_type": "execute_result"
    },
    {
     "data": {
      "image/png": "[encoded data removed]",
      "text/plain": [
       "<Figure size 432x288 with 1 Axes>"
      ]
     },
     "metadata": {
      "needs_background": "light"
     },
     "output_type": "display_data"
    }
   ],
   "source": [
    "sns.kdeplot(train[train.domain == 'analyst'].message_length, train[train.domain == 'analyst'].sentiment, levels=30, shade=True)"
   ]
  },
  {
   "cell_type": "code",
   "execution_count": 72,
   "id": "7157a814-cb83-4a71-8f45-eb756fbc4534",
   "metadata": {},
   "outputs": [
    {
     "name": "stderr",
     "output_type": "stream",
     "text": [
      "/opt/homebrew/anaconda3/lib/python3.9/site-packages/seaborn/_decorators.py:36: FutureWarning: Pass the following variable as a keyword arg: y. From version 0.12, the only valid positional argument will be `data`, and passing other arguments without an explicit keyword will result in an error or misinterpretation.\n",
      "  warnings.warn(\n"
     ]
    },
    {
     "data": {
      "text/plain": [
       "<AxesSubplot:xlabel='message_length', ylabel='sentiment'>"
      ]
     },
     "execution_count": 72,
     "metadata": {},
     "output_type": "execute_result"
    },
    {
     "data": {
      "image/png": "[encoded data removed]",
      "text/plain": [
       "<Figure size 432x288 with 1 Axes>"
      ]
     },
     "metadata": {
      "needs_background": "light"
     },
     "output_type": "display_data"
    }
   ],
   "source": [
    "sns.kdeplot(train[train.domain == 'explorer'].message_length, train[train.domain == 'explorer'].sentiment, levels=30, shade=True)"
   ]
  },
  {
   "cell_type": "code",
   "execution_count": null,
   "id": "666fbc75-e356-4411-a79a-e4963d81a978",
   "metadata": {},
   "outputs": [],
   "source": []
  }
 ],
 "metadata": {
  "kernelspec": {
   "display_name": "Python 3 (ipykernel)",
   "language": "python",
   "name": "python3"
  },
  "language_info": {
   "codemirror_mode": {
    "name": "ipython",
    "version": 3
   },
   "file_extension": ".py",
   "mimetype": "text/x-python",
   "name": "python",
   "nbconvert_exporter": "python",
   "pygments_lexer": "ipython3",
   "version": "3.9.12"
  }
 },
 "nbformat": 4,
 "nbformat_minor": 5
}
