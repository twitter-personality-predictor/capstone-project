{
 "cells": [
  {
   "cell_type": "code",
   "execution_count": 5,
   "id": "bffad363-09bf-409f-b76a-515ca0039f05",
   "metadata": {},
   "outputs": [],
   "source": [
    "# standard ds imports\n",
    "import numpy as np\n",
    "import pandas as pd\n",
    "\n",
    "# for wrangling and exploration\n",
    "import wrangle\n",
    "# import explore\n",
    "import model\n",
    "\n",
    "# for visualization\n",
    "import matplotlib.pyplot as plt\n",
    "import seaborn as sns\n",
    "sns.set()\n",
    "\n",
    "# filter out noise\n",
    "import warnings\n",
    "warnings.filterwarnings('ignore')\n",
    "\n",
    "# align markdown tables to the left"
   ]
  },
  {
   "cell_type": "code",
   "execution_count": 6,
   "id": "af158eaf-0aab-469e-bc3b-f1054b3c4906",
   "metadata": {},
   "outputs": [
    {
     "data": {
      "text/html": [
       "<style>\n",
       "table {float:left}\n",
       "</style>\n"
      ],
      "text/plain": [
       "<IPython.core.display.HTML object>"
      ]
     },
     "metadata": {},
     "output_type": "display_data"
    }
   ],
   "source": [
    "%%html\n",
    "<style>\n",
    "table {float:left}\n",
    "</style>"
   ]
  },
  {
   "cell_type": "markdown",
   "id": "3d9d450f-3425-4935-ba06-fb2c71778ffe",
   "metadata": {},
   "source": [
    "# MYERS BRIGGS TWITTER ASSESSMENT\n",
    "\n",
    "This project is designed to analyze the relationship between the 16 Myers Briggs personality types and twitter behavior. The results....."
   ]
  },
  {
   "cell_type": "markdown",
   "id": "6a35a994-42e8-41b2-8d20-2c4fa81397a8",
   "metadata": {},
   "source": [
    "----\n",
    "\n",
    "## Executive Summary:\n",
    "\n",
    "Goals:\n",
    "- analyze relationships between tweets and the myers briggs 16 personalities\n",
    "- build a classification model to predict a personality type based on a user's tweets\n",
    "\n",
    "Key Findings:\n",
    "- stuff\n",
    "- things\n",
    "\n",
    "Takeaways:\n",
    "- Our best model, a multinomial Naive Bayes using TF-IDF, performed at 17.5% accuracy on the test dataset. This barely outperforms the baseline at 17.2%.\n",
    "- things\n",
    "\n",
    "Recommendations:\n",
    "- Due to the low accuracy, it is not recommended to use this for individual predictions.\n",
    "- However, looking at how types and domains interact can provide business insights for targeted marketing and training for known personality types"
   ]
  },
  {
   "cell_type": "markdown",
   "id": "57917374-e0f6-4efc-9446-f3ac04bfd053",
   "metadata": {},
   "source": [
    "----\n",
    "## 1. Planning\n",
    " - Create deliverables:\n",
    "     - README\n",
    "     - final_report.ipynb\n",
    "     - working_report.ipynb\n",
    "     - canva presentation\n",
    " - Bring over functional wrangle.py, explore.py, and model.py files\n",
    " - Acquire the data from the Kaggle and Twitter via acquire.py's web scraping. Save the data locally.\n",
    " - Prepare and split the data via the prepare.py functions\n",
    " - Explore the data and define hypothesis. Run the appropriate statistical tests in order to accept or reject each null hypothesis. Document findings and takeaways.\n",
    " - Model a baseline in predicting personality type and document the accuracy.\n",
    " - Fit and train classification models to predict personality type or domain on the train dataset.\n",
    " - Evaluate the models by comparing the train and validation data.\n",
    " - Select the best model and evaluate it on the train data.\n",
    " - Develop and document all findings, takeaways, recommendations and next steps."
   ]
  },
  {
   "cell_type": "markdown",
   "id": "66a20600-05d2-4d7c-a399-fa0bd2c29b2c",
   "metadata": {},
   "source": [
    "----\n",
    "## 2. Data Wrangling\n",
    "This step calls the wrangle function from the wrangle.py. This function:\n",
    "- reads the fivezerominpull.plk file saved locally"
   ]
  },
  {
   "cell_type": "markdown",
   "id": "f126f1ba-9a84-48e8-b817-f3d4c99c187b",
   "metadata": {},
   "source": [
    "#### Data Dictionary\n",
    "\n",
    "| Target | Type | Description |\n",
    "| ---- | ---- | ---- |\n",
    "| type | str | the 16 myers briggs personality types |"
   ]
  },
  {
   "cell_type": "markdown",
   "id": "aa59bdec-c101-4df7-9778-286e23285b8d",
   "metadata": {},
   "source": [
    "| Feature Name | Type | Description |\n",
    "| ---- | ---- | ---- |\n",
    "| name | str | the owner of the twitter account scraped |\n",
    "| lemmatized | str | the lemmatized version of past 100 tweets scraped by user |\n",
    "| sentiment | float | the compound sentiment score |\n",
    "| word_count | int | the count of words in the combined 100 tweets after lemmatization |\n",
    "| message_length | int | the count of characters in the combined 100 tweets after lemmatization |\n",
    "| i_e | int | 0 for introvert, 1 for extrovert |\n",
    "| n_s | int | 0 for intuitive, 1 for sensing |\n",
    "| t_f | int | 0 for thinking, 1 for feeling |\n",
    "| j_p | int | 0 for judging, 1 for perceiving |\n",
    "| personality_domain | str | which of the 4 domains the personality type is in |\n",
    "| freq | dict | dictionary of count of each unique word |"
   ]
  },
  {
   "cell_type": "code",
   "execution_count": 3,
   "id": "db15f0b1-8100-4549-843a-d335160035b3",
   "metadata": {},
   "outputs": [],
   "source": [
    "# call the wrangle function from wrangle.py\n",
    "df = wrangle.wrangle()"
   ]
  },
  {
   "cell_type": "code",
   "execution_count": 4,
   "id": "bad1b051-8f05-4409-b41a-a425d3d08cdc",
   "metadata": {},
   "outputs": [
    {
     "data": {
      "text/html": [
       "<div>\n",
       "<style scoped>\n",
       "    .dataframe tbody tr th:only-of-type {\n",
       "        vertical-align: middle;\n",
       "    }\n",
       "\n",
       "    .dataframe tbody tr th {\n",
       "        vertical-align: top;\n",
       "    }\n",
       "\n",
       "    .dataframe thead th {\n",
       "        text-align: right;\n",
       "    }\n",
       "</style>\n",
       "<table border=\"1\" class=\"dataframe\">\n",
       "  <thead>\n",
       "    <tr style=\"text-align: right;\">\n",
       "      <th></th>\n",
       "      <th>type</th>\n",
       "      <th>name</th>\n",
       "      <th>lemmatized</th>\n",
       "    </tr>\n",
       "  </thead>\n",
       "  <tbody>\n",
       "    <tr>\n",
       "      <th>0</th>\n",
       "      <td>infp</td>\n",
       "      <td>alicia keys</td>\n",
       "      <td>dragon ball zone beerus less december back jun...</td>\n",
       "    </tr>\n",
       "    <tr>\n",
       "      <th>1</th>\n",
       "      <td>infp</td>\n",
       "      <td>farhan akhtar</td>\n",
       "      <td>lift spirits theme song cinemas nov n gurmmeet...</td>\n",
       "    </tr>\n",
       "    <tr>\n",
       "      <th>2</th>\n",
       "      <td>infp</td>\n",
       "      <td>calum hood</td>\n",
       "      <td>song video journey proud guys finally hope yal...</td>\n",
       "    </tr>\n",
       "    <tr>\n",
       "      <th>3</th>\n",
       "      <td>infp</td>\n",
       "      <td>john green</td>\n",
       "      <td>lee html great tell thx lee html rs molloy ahh...</td>\n",
       "    </tr>\n",
       "    <tr>\n",
       "      <th>4</th>\n",
       "      <td>infp</td>\n",
       "      <td>noel schajris</td>\n",
       "      <td>puebla magi buenos dias va sabado ustedes noch...</td>\n",
       "    </tr>\n",
       "  </tbody>\n",
       "</table>\n",
       "</div>"
      ],
      "text/plain": [
       "   type           name                                         lemmatized\n",
       "0  infp    alicia keys  dragon ball zone beerus less december back jun...\n",
       "1  infp  farhan akhtar  lift spirits theme song cinemas nov n gurmmeet...\n",
       "2  infp     calum hood  song video journey proud guys finally hope yal...\n",
       "3  infp     john green  lee html great tell thx lee html rs molloy ahh...\n",
       "4  infp  noel schajris  puebla magi buenos dias va sabado ustedes noch..."
      ]
     },
     "execution_count": 4,
     "metadata": {},
     "output_type": "execute_result"
    }
   ],
   "source": [
    "df.head()"
   ]
  },
  {
   "cell_type": "code",
   "execution_count": 5,
   "id": "218d0855-dbb7-4352-ab7d-060fbca90ec5",
   "metadata": {},
   "outputs": [],
   "source": [
    "# split"
   ]
  },
  {
   "cell_type": "code",
   "execution_count": 6,
   "id": "d26c4d7b-d9ef-4253-afd5-4cd5a777a4dd",
   "metadata": {},
   "outputs": [],
   "source": [
    "# verify the split"
   ]
  },
  {
   "cell_type": "markdown",
   "id": "f0e8f2d5-b233-49cc-bf04-ceed39c1dd0b",
   "metadata": {
    "tags": []
   },
   "source": [
    "### Wrangling Takeaways\n",
    "- stuff\n",
    "- things"
   ]
  },
  {
   "cell_type": "markdown",
   "id": "50c7ccfa-886f-43a4-bcc0-3ad626b617c2",
   "metadata": {},
   "source": [
    "----\n",
    "## 2. Data Exploration"
   ]
  },
  {
   "cell_type": "markdown",
   "id": "40c326ff-7ee9-4f2a-8b5e-8b6171fcda0d",
   "metadata": {},
   "source": [
    "What does the data look like? (Percent population -> flow chart with ratios)"
   ]
  },
  {
   "cell_type": "code",
   "execution_count": null,
   "id": "4c4c0e75-09ad-48aa-bd94-2189b2146f78",
   "metadata": {},
   "outputs": [],
   "source": []
  },
  {
   "cell_type": "markdown",
   "id": "91cf9dfc-2922-4f12-9938-8603639fee42",
   "metadata": {},
   "source": [
    "### Question 1: What scale of groupings shows a significant relationship in sentiment? Pairs, types, or domains?"
   ]
  },
  {
   "cell_type": "code",
   "execution_count": null,
   "id": "c32a90c0-2f96-454a-965d-da46338d02fd",
   "metadata": {
    "tags": []
   },
   "outputs": [],
   "source": [
    "# where is there a significant difference in samples?"
   ]
  },
  {
   "cell_type": "markdown",
   "id": "7a4088d2-4929-4a86-8684-3f98e7cec7cc",
   "metadata": {},
   "source": [
    "#### Hypothesis 1:\n",
    "\n",
    "    Ho ->\n",
    "    Ha ->\n",
    "    T-Test, One-Sample, Two-Tailed"
   ]
  },
  {
   "cell_type": "code",
   "execution_count": null,
   "id": "a193a608-aa8b-41c4-9db3-69386028036b",
   "metadata": {
    "tags": []
   },
   "outputs": [],
   "source": []
  },
  {
   "cell_type": "markdown",
   "id": "b7a61e2a-20f2-4f01-a81f-b8a8f6d81849",
   "metadata": {},
   "source": [
    "### Question 1 Takeaways\n",
    "- stuff\n",
    "- things"
   ]
  },
  {
   "cell_type": "markdown",
   "id": "1d07e5d9-acc7-4ade-a62e-090bac64b0bc",
   "metadata": {},
   "source": [
    "---\n",
    "### Question 2a: What words are seen across all personality types?"
   ]
  },
  {
   "cell_type": "code",
   "execution_count": null,
   "id": "f7d10a35-69f9-4084-b1ce-0a422121a6ae",
   "metadata": {
    "tags": []
   },
   "outputs": [],
   "source": []
  },
  {
   "cell_type": "markdown",
   "id": "37675b8a-2705-4a5c-956c-d20aaff0f36e",
   "metadata": {},
   "source": [
    "#### Hypothesis 2:\n",
    "\n",
    "    Ho ->\n",
    "    Ha ->\n",
    "    T-Test, One-Sample, Two-Tailed"
   ]
  },
  {
   "cell_type": "code",
   "execution_count": null,
   "id": "0a74e177-c80e-4ae1-a284-eab38e7825fa",
   "metadata": {
    "tags": []
   },
   "outputs": [],
   "source": []
  },
  {
   "cell_type": "markdown",
   "id": "6f5428b9-f79a-4338-8c65-b3a7b8185d8b",
   "metadata": {},
   "source": [
    "### Question 2b: What words are unique to introvert or extrovert?"
   ]
  },
  {
   "cell_type": "code",
   "execution_count": null,
   "id": "b97df1f7-afaf-449a-b0f3-c530ab0abfc2",
   "metadata": {
    "tags": []
   },
   "outputs": [],
   "source": []
  },
  {
   "cell_type": "code",
   "execution_count": null,
   "id": "03a43b79-0080-4704-8715-606ee11af13e",
   "metadata": {
    "tags": []
   },
   "outputs": [],
   "source": []
  },
  {
   "cell_type": "markdown",
   "id": "521c4ccc-b842-43f5-8243-425c945fecf7",
   "metadata": {},
   "source": [
    "### Question 2 Takeaways\n",
    "- stuff\n",
    "- things"
   ]
  },
  {
   "cell_type": "markdown",
   "id": "cbdc6c8e-8e14-445d-94c3-ab1cd262b2dc",
   "metadata": {},
   "source": [
    "---\n",
    "### Question 3: Is there a relationship between word count and personality type?"
   ]
  },
  {
   "cell_type": "code",
   "execution_count": null,
   "id": "ddd3082a-df55-4931-adee-ba655c0c8347",
   "metadata": {
    "tags": []
   },
   "outputs": [],
   "source": []
  },
  {
   "cell_type": "markdown",
   "id": "1293d0f0-692a-4e59-99e4-c7498f3a9759",
   "metadata": {},
   "source": [
    "#### Hypothesis 3:\n",
    "\n",
    "    Ho ->\n",
    "    Ha ->\n",
    "    T-Test, One-Sample, Two-Tailed"
   ]
  },
  {
   "cell_type": "code",
   "execution_count": null,
   "id": "61b96336-3458-4e5c-9a38-d3b6d719a575",
   "metadata": {
    "tags": []
   },
   "outputs": [],
   "source": []
  },
  {
   "cell_type": "markdown",
   "id": "cc645537-6b87-4ed2-89c1-8c4b28949107",
   "metadata": {},
   "source": [
    "### Question 3 Takeaways\n",
    "- stuff\n",
    "- things"
   ]
  },
  {
   "cell_type": "markdown",
   "id": "cf3eb110-05fa-4cd9-8345-5da1d759ee0f",
   "metadata": {},
   "source": [
    "### Exploration Takeaways\n",
    "- stuff\n",
    "- things\n",
    "- more stuff"
   ]
  },
  {
   "cell_type": "markdown",
   "id": "89fa2a01-fccb-4222-999d-e569ba029842",
   "metadata": {},
   "source": [
    "---\n",
    "## Data Modeling\n",
    "The goal is to maximize accuracy.\n",
    "\n",
    "| Features Dropped | Features Kept |\n",
    "| ---- | ---- |\n",
    "| pairs | lemmatized |\n",
    "| domain | bow |\n",
    "| sentiment | TF-IDF |\n",
    "| message_length |  |\n",
    "| word_count |  |\n",
    "|  |  |"
   ]
  },
  {
   "cell_type": "code",
   "execution_count": null,
   "id": "286dc2da-bce2-43c1-9241-9e7c7f7e3019",
   "metadata": {},
   "outputs": [],
   "source": [
    "# get the baseline accuracy\n",
    "model.get_baseline(df)"
   ]
  },
  {
   "cell_type": "code",
   "execution_count": 1,
   "id": "4330bbc4-efdf-4642-9ae4-d2de6edfeddf",
   "metadata": {},
   "outputs": [],
   "source": [
    "# get the model results on train and validate\n",
    "model.top_3_16_personalities(df)"
   ]
  },
  {
   "cell_type": "code",
   "execution_count": null,
   "id": "9db82074-7cf6-4385-8dbe-badf9bef867f",
   "metadata": {},
   "outputs": [],
   "source": [
    "# get the best model's results on test\n",
    "model.test_16_personalities(df)"
   ]
  },
  {
   "cell_type": "markdown",
   "id": "b2f0ca97-f5a8-42e2-85e8-c297835b756d",
   "metadata": {},
   "source": [
    "### Modeling Takeaways:\n",
    "- The best model was the TF-IDF Multinomial Naive Bayes model at % accuracy on test.\n",
    "- The other models showed strong signs of overfitting the data on train, but were producing similar results on validate."
   ]
  },
  {
   "cell_type": "markdown",
   "id": "186445ad-3288-4971-86fd-67721ddad6f8",
   "metadata": {},
   "source": [
    "---\n",
    "## Conclusion\n",
    "Main conclusion note here\n",
    "\n",
    "### Recommendations\n",
    "- stuff\n",
    "- things\n",
    "\n",
    "### Next Steps:\n",
    "- stuff\n",
    "- things\n",
    "---"
   ]
  }
 ],
 "metadata": {
  "kernelspec": {
   "display_name": "Python 3 (ipykernel)",
   "language": "python",
   "name": "python3"
  },
  "language_info": {
   "codemirror_mode": {
    "name": "ipython",
    "version": 3
   },
   "file_extension": ".py",
   "mimetype": "text/x-python",
   "name": "python",
   "nbconvert_exporter": "python",
   "pygments_lexer": "ipython3",
   "version": "3.9.12"
  }
 },
 "nbformat": 4,
 "nbformat_minor": 5
}
